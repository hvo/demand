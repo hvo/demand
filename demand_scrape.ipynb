{
 "cells": [
  {
   "cell_type": "code",
   "execution_count": 5,
   "metadata": {
    "collapsed": true
   },
   "outputs": [],
   "source": [
    "import requests\n",
    "import pickle\n",
    "\n",
    "EIA_KEY = '7eb8f2869a253fc97eeaefee4154550a'"
   ]
  },
  {
   "cell_type": "code",
   "execution_count": 6,
   "metadata": {
    "collapsed": true
   },
   "outputs": [],
   "source": [
    "# get catalog of available electricity time series\n",
    "# API docs: https://www.eia.gov/opendata/qb.php?category=2122628\n",
    "catalog_query = 'http://api.eia.gov/category/?api_key={}&category_id=2122628'.format(EIA_KEY)\n",
    "catalog_response = requests.get(catalog_query).json()"
   ]
  },
  {
   "cell_type": "code",
   "execution_count": 7,
   "metadata": {
    "collapsed": true
   },
   "outputs": [],
   "source": [
    "def region_filter(region_pair):\n",
    "    # return all region-level series, but not the 'US total' series\n",
    "    if ('region' in region_pair[0]) and ('48' not in region_pair[0]):\n",
    "        return True\n",
    "    elif region_pair[0] in ['Demand for Tennessee Valley Authority (TVA), Hourly',\n",
    "                           'Demand for Electric Reliability Council of Texas, Inc. (ERCO), Hourly',\n",
    "                           'Demand for New England ISO (ISNE), Hourly',\n",
    "                           'Demand for New York Independent System Operator (NYIS), Hourly']:\n",
    "        return True\n",
    "    else:\n",
    "        return False"
   ]
  },
  {
   "cell_type": "code",
   "execution_count": 8,
   "metadata": {
    "collapsed": false
   },
   "outputs": [],
   "source": [
    "# consider only the region-level time series\n",
    "# (not going to balancing authority granularity level)\n",
    "# build an API endpoint URL for each region\n",
    "region_ids = filter(region_filter,\n",
    "                    map(lambda region: (region['name'], region['series_id']),\n",
    "                        catalog_response['category']['childseries']))"
   ]
  },
  {
   "cell_type": "code",
   "execution_count": 9,
   "metadata": {
    "collapsed": false
   },
   "outputs": [
    {
     "data": {
      "text/plain": [
       "[(u'Demand for California (region), Hourly', u'EBA.CAL-ALL.D.H'),\n",
       " (u'Demand for Carolinas (region), Hourly', u'EBA.CAR-ALL.D.H'),\n",
       " (u'Demand for Central (region), Hourly', u'EBA.CEN-ALL.D.H'),\n",
       " (u'Demand for Electric Reliability Council of Texas, Inc. (ERCO), Hourly',\n",
       "  u'EBA.ERCO-ALL.D.H'),\n",
       " (u'Demand for Florida (region), Hourly', u'EBA.FLA-ALL.D.H'),\n",
       " (u'Demand for New England ISO (ISNE), Hourly', u'EBA.ISNE-ALL.D.H'),\n",
       " (u'Demand for Mid-Atlantic (region), Hourly', u'EBA.MIDA-ALL.D.H'),\n",
       " (u'Demand for Midwest (region), Hourly', u'EBA.MIDW-ALL.D.H'),\n",
       " (u'Demand for Northwest (region), Hourly', u'EBA.NW-ALL.D.H'),\n",
       " (u'Demand for New York Independent System Operator (NYIS), Hourly',\n",
       "  u'EBA.NYIS-ALL.D.H'),\n",
       " (u'Demand for Southeast (region), Hourly', u'EBA.SE-ALL.D.H'),\n",
       " (u'Demand for Southwest (region), Hourly', u'EBA.SW-ALL.D.H'),\n",
       " (u'Demand for Tennessee Valley Authority (TVA), Hourly', u'EBA.TVA-ALL.D.H')]"
      ]
     },
     "execution_count": 9,
     "metadata": {},
     "output_type": "execute_result"
    }
   ],
   "source": [
    "region_ids"
   ]
  },
  {
   "cell_type": "markdown",
   "metadata": {
    "collapsed": true
   },
   "source": [
    "southern = southeast"
   ]
  },
  {
   "cell_type": "code",
   "execution_count": 10,
   "metadata": {
    "collapsed": false
   },
   "outputs": [],
   "source": [
    "# get time series data for each region\n",
    "region_series = {}\n",
    "for region in region_ids:\n",
    "    name = region[0]\n",
    "    series_id = region[1]\n",
    "    # API docs: https://www.eia.gov/opendata/qb.php?category=2122628&sdid=EBA.CAL-ALL.D.H\n",
    "    series_query = 'http://api.eia.gov/series/?api_key={}&series_id={}'.format(EIA_KEY, series_id)\n",
    "    series_reponse = requests.get(series_query).json()\n",
    "    series_data = series_reponse['series'][0]['data']\n",
    "    region_series[name] = series_data"
   ]
  },
  {
   "cell_type": "code",
   "execution_count": 12,
   "metadata": {
    "collapsed": false
   },
   "outputs": [],
   "source": [
    "with open('./data/power_series.pickle', 'wb') as handle:\n",
    "    pickle.dump(region_series, handle, protocol=pickle.HIGHEST_PROTOCOL)"
   ]
  },
  {
   "cell_type": "code",
   "execution_count": 21,
   "metadata": {
    "collapsed": true
   },
   "outputs": [],
   "source": [
    "#with open('power_series.pickle', 'rb') as handle:\n",
    "#    region_series = pickle.load(handle)"
   ]
  }
 ],
 "metadata": {
  "anaconda-cloud": {},
  "kernelspec": {
   "display_name": "Python [conda root]",
   "language": "python",
   "name": "conda-root-py"
  },
  "language_info": {
   "codemirror_mode": {
    "name": "ipython",
    "version": 2
   },
   "file_extension": ".py",
   "mimetype": "text/x-python",
   "name": "python",
   "nbconvert_exporter": "python",
   "pygments_lexer": "ipython2",
   "version": "2.7.12"
  }
 },
 "nbformat": 4,
 "nbformat_minor": 2
}
