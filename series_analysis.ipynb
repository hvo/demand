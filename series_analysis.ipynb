{
 "cells": [
  {
   "cell_type": "code",
   "execution_count": 205,
   "metadata": {
    "collapsed": false
   },
   "outputs": [],
   "source": [
    "import geopandas as gpd\n",
    "import shapely\n",
    "from shapely.geometry import Point\n",
    "\n",
    "import pandas as pd\n",
    "import numpy as np\n",
    "import pickle\n",
    "from datetime import datetime, date, time\n",
    "\n",
    "from fbprophet import Prophet\n",
    "\n",
    "import matplotlib.pylab as plt\n",
    "plt.style.use('ggplot')\n",
    "%matplotlib inline"
   ]
  },
  {
   "cell_type": "code",
   "execution_count": 200,
   "metadata": {
    "collapsed": true
   },
   "outputs": [],
   "source": [
    "ll_crs = {'init': 'epsg:4326'}"
   ]
  },
  {
   "cell_type": "markdown",
   "metadata": {},
   "source": [
    "### EIA region shapefile preprocessing"
   ]
  },
  {
   "cell_type": "code",
   "execution_count": 201,
   "metadata": {
    "collapsed": false
   },
   "outputs": [],
   "source": [
    "# power region geo boundaries (data provided by EIA)\n",
    "region_shp = gpd.read_file('data/ElectricSytemOperatingRegions_EIA-shape files/EIA930_Regions_20160506_WGS84.shx')"
   ]
  },
  {
   "cell_type": "code",
   "execution_count": 202,
   "metadata": {
    "collapsed": true
   },
   "outputs": [],
   "source": [
    "region_shp.drop(['Shape_Area', 'Shape_Leng'], axis=1, inplace=True)\n",
    "region_shp = region_shp.to_crs(ll_crs)"
   ]
  },
  {
   "cell_type": "code",
   "execution_count": 203,
   "metadata": {
    "collapsed": false
   },
   "outputs": [],
   "source": [
    "def union_parts(multi):\n",
    "    \"\"\"\n",
    "    - adds a buffer to all sub-polygons to eliminate faulty edges\n",
    "    - reduces number of sub-polygons by performing a cascading union, where possible\n",
    "    \"\"\"\n",
    "    if type(multi) == shapely.geometry.multipolygon.MultiPolygon:\n",
    "        allparts = [part.buffer(0) for part in multi]\n",
    "        unioned = shapely.ops.cascaded_union(allparts)\n",
    "        return unioned\n",
    "    else:\n",
    "        return multi"
   ]
  },
  {
   "cell_type": "code",
   "execution_count": 206,
   "metadata": {
    "collapsed": false
   },
   "outputs": [],
   "source": [
    "# touch up invalid polygons (bad self intersections)\n",
    "region_shp.loc[:, 'geometry'] = map(union_parts, region_shp.loc[:, 'geometry'])"
   ]
  },
  {
   "cell_type": "code",
   "execution_count": 207,
   "metadata": {
    "collapsed": false
   },
   "outputs": [
    {
     "data": {
      "text/html": [
       "<div>\n",
       "<table border=\"1\" class=\"dataframe\">\n",
       "  <thead>\n",
       "    <tr style=\"text-align: right;\">\n",
       "      <th></th>\n",
       "      <th>EIA_Region</th>\n",
       "      <th>geometry</th>\n",
       "    </tr>\n",
       "  </thead>\n",
       "  <tbody>\n",
       "    <tr>\n",
       "      <th>0</th>\n",
       "      <td>California</td>\n",
       "      <td>(POLYGON ((-114.2997240000745 34.1588979998338...</td>\n",
       "    </tr>\n",
       "    <tr>\n",
       "      <th>1</th>\n",
       "      <td>Carolinas</td>\n",
       "      <td>(POLYGON ((-77.94237900003289 36.5445129996888...</td>\n",
       "    </tr>\n",
       "    <tr>\n",
       "      <th>2</th>\n",
       "      <td>Central</td>\n",
       "      <td>(POLYGON ((-102.5477049998308 46.2827879998399...</td>\n",
       "    </tr>\n",
       "    <tr>\n",
       "      <th>3</th>\n",
       "      <td>Florida</td>\n",
       "      <td>(POLYGON ((-82.11678699982296 24.5491439996071...</td>\n",
       "    </tr>\n",
       "    <tr>\n",
       "      <th>4</th>\n",
       "      <td>Mid Atlantic</td>\n",
       "      <td>(POLYGON ((-84.82944799969027 38.8971309999546...</td>\n",
       "    </tr>\n",
       "  </tbody>\n",
       "</table>\n",
       "</div>"
      ],
      "text/plain": [
       "     EIA_Region                                           geometry\n",
       "0    California  (POLYGON ((-114.2997240000745 34.1588979998338...\n",
       "1     Carolinas  (POLYGON ((-77.94237900003289 36.5445129996888...\n",
       "2       Central  (POLYGON ((-102.5477049998308 46.2827879998399...\n",
       "3       Florida  (POLYGON ((-82.11678699982296 24.5491439996071...\n",
       "4  Mid Atlantic  (POLYGON ((-84.82944799969027 38.8971309999546..."
      ]
     },
     "execution_count": 207,
     "metadata": {},
     "output_type": "execute_result"
    }
   ],
   "source": [
    "region_shp.head()"
   ]
  },
  {
   "cell_type": "code",
   "execution_count": 216,
   "metadata": {
    "collapsed": true
   },
   "outputs": [],
   "source": [
    "# write region shapes to file\n",
    "with open('./data/region_shapes.pickle', 'wb') as handle:\n",
    "    pickle.dump(region_shp, handle, protocol=pickle.HIGHEST_PROTOCOL)"
   ]
  },
  {
   "cell_type": "markdown",
   "metadata": {},
   "source": [
    "### cities preprocessing"
   ]
  },
  {
   "cell_type": "code",
   "execution_count": 208,
   "metadata": {
    "collapsed": false
   },
   "outputs": [],
   "source": [
    "with open('./data/cities.pickle', 'rb') as handle:\n",
    "    cities = pickle.load(handle)"
   ]
  },
  {
   "cell_type": "code",
   "execution_count": 209,
   "metadata": {
    "collapsed": true
   },
   "outputs": [],
   "source": [
    "def switch_latlng(point):\n",
    "    \"\"\"\n",
    "    swaps lat of for long\n",
    "    googlemaps API and shapely API coordinate sysems are opposite\n",
    "    \"\"\"\n",
    "    x = point.y\n",
    "    y = point.x\n",
    "    return Point(x, y)"
   ]
  },
  {
   "cell_type": "code",
   "execution_count": 210,
   "metadata": {
    "collapsed": false
   },
   "outputs": [],
   "source": [
    "# set geom with geopandas, switch lat/lng\n",
    "cities  = gpd.GeoDataFrame(cities, crs=ll_crs, geometry='location')\n",
    "cities['fg'] = map(switch_latlng, cities.loc[:, 'location'])\n",
    "cities.drop('location', axis=1, inplace=True)\n",
    "# rename geom column\n",
    "cities.columns = [u'city', u'state', u'state_abb', u'population', u'USAF',\n",
    "       u'WBAN', u'geometry']"
   ]
  },
  {
   "cell_type": "code",
   "execution_count": 211,
   "metadata": {
    "collapsed": false
   },
   "outputs": [
    {
     "data": {
      "text/html": [
       "<div>\n",
       "<table border=\"1\" class=\"dataframe\">\n",
       "  <thead>\n",
       "    <tr style=\"text-align: right;\">\n",
       "      <th></th>\n",
       "      <th>city</th>\n",
       "      <th>state</th>\n",
       "      <th>state_abb</th>\n",
       "      <th>population</th>\n",
       "      <th>USAF</th>\n",
       "      <th>WBAN</th>\n",
       "      <th>geometry</th>\n",
       "    </tr>\n",
       "  </thead>\n",
       "  <tbody>\n",
       "    <tr>\n",
       "      <th>0</th>\n",
       "      <td>New York</td>\n",
       "      <td>New York</td>\n",
       "      <td>NY</td>\n",
       "      <td>8550405</td>\n",
       "      <td>997271</td>\n",
       "      <td>99999</td>\n",
       "      <td>POINT (-74.0059413 40.7127837)</td>\n",
       "    </tr>\n",
       "    <tr>\n",
       "      <th>1</th>\n",
       "      <td>Los Angeles</td>\n",
       "      <td>California</td>\n",
       "      <td>CA</td>\n",
       "      <td>3971883</td>\n",
       "      <td>722874</td>\n",
       "      <td>93134</td>\n",
       "      <td>POINT (-118.2436849 34.0522342)</td>\n",
       "    </tr>\n",
       "    <tr>\n",
       "      <th>2</th>\n",
       "      <td>Chicago</td>\n",
       "      <td>Illinois</td>\n",
       "      <td>IL</td>\n",
       "      <td>2720546</td>\n",
       "      <td>998499</td>\n",
       "      <td>99999</td>\n",
       "      <td>POINT (-87.6297982 41.8781136)</td>\n",
       "    </tr>\n",
       "    <tr>\n",
       "      <th>3</th>\n",
       "      <td>Houston</td>\n",
       "      <td>Texas</td>\n",
       "      <td>TX</td>\n",
       "      <td>2296224</td>\n",
       "      <td>720594</td>\n",
       "      <td>188</td>\n",
       "      <td>POINT (-95.3698028 29.7604267)</td>\n",
       "    </tr>\n",
       "    <tr>\n",
       "      <th>4</th>\n",
       "      <td>Philadelphia</td>\n",
       "      <td>Pennsylvania</td>\n",
       "      <td>PA</td>\n",
       "      <td>1567442</td>\n",
       "      <td>724080</td>\n",
       "      <td>13739</td>\n",
       "      <td>POINT (-75.1652215 39.9525839)</td>\n",
       "    </tr>\n",
       "  </tbody>\n",
       "</table>\n",
       "</div>"
      ],
      "text/plain": [
       "           city         state state_abb  population    USAF   WBAN  \\\n",
       "0      New York      New York        NY     8550405  997271  99999   \n",
       "1   Los Angeles    California        CA     3971883  722874  93134   \n",
       "2       Chicago      Illinois        IL     2720546  998499  99999   \n",
       "3       Houston         Texas        TX     2296224  720594    188   \n",
       "4  Philadelphia  Pennsylvania        PA     1567442  724080  13739   \n",
       "\n",
       "                          geometry  \n",
       "0   POINT (-74.0059413 40.7127837)  \n",
       "1  POINT (-118.2436849 34.0522342)  \n",
       "2   POINT (-87.6297982 41.8781136)  \n",
       "3   POINT (-95.3698028 29.7604267)  \n",
       "4   POINT (-75.1652215 39.9525839)  "
      ]
     },
     "execution_count": 211,
     "metadata": {},
     "output_type": "execute_result"
    }
   ],
   "source": [
    "cities.head()"
   ]
  },
  {
   "cell_type": "markdown",
   "metadata": {},
   "source": [
    "### aggregating weather to EIA regions"
   ]
  },
  {
   "cell_type": "code",
   "execution_count": 212,
   "metadata": {
    "collapsed": false
   },
   "outputs": [],
   "source": [
    "# locate cities within regional boundaries with a spatial join\n",
    "cities_located = gpd.sjoin(cities, region_shp, how=\"inner\", op='within')"
   ]
  },
  {
   "cell_type": "code",
   "execution_count": 217,
   "metadata": {
    "collapsed": false
   },
   "outputs": [
    {
     "data": {
      "text/html": [
       "<div>\n",
       "<table border=\"1\" class=\"dataframe\">\n",
       "  <thead>\n",
       "    <tr style=\"text-align: right;\">\n",
       "      <th></th>\n",
       "      <th>city</th>\n",
       "      <th>state</th>\n",
       "      <th>state_abb</th>\n",
       "      <th>population</th>\n",
       "      <th>USAF</th>\n",
       "      <th>WBAN</th>\n",
       "      <th>geometry</th>\n",
       "      <th>index_right</th>\n",
       "      <th>EIA_Region</th>\n",
       "    </tr>\n",
       "  </thead>\n",
       "  <tbody>\n",
       "    <tr>\n",
       "      <th>208</th>\n",
       "      <td>Thousand Oaks</td>\n",
       "      <td>California</td>\n",
       "      <td>CA</td>\n",
       "      <td>129339</td>\n",
       "      <td>723926</td>\n",
       "      <td>23136</td>\n",
       "      <td>POINT (-118.8375937 34.1705609)</td>\n",
       "      <td>0</td>\n",
       "      <td>California</td>\n",
       "    </tr>\n",
       "    <tr>\n",
       "      <th>281</th>\n",
       "      <td>Burbank</td>\n",
       "      <td>California</td>\n",
       "      <td>CA</td>\n",
       "      <td>105319</td>\n",
       "      <td>722880</td>\n",
       "      <td>23152</td>\n",
       "      <td>POINT (-118.3089661 34.1808392)</td>\n",
       "      <td>0</td>\n",
       "      <td>California</td>\n",
       "    </tr>\n",
       "    <tr>\n",
       "      <th>107</th>\n",
       "      <td>Oxnard</td>\n",
       "      <td>California</td>\n",
       "      <td>CA</td>\n",
       "      <td>207254</td>\n",
       "      <td>723927</td>\n",
       "      <td>93110</td>\n",
       "      <td>POINT (-119.1770516 34.1975048)</td>\n",
       "      <td>0</td>\n",
       "      <td>California</td>\n",
       "    </tr>\n",
       "    <tr>\n",
       "      <th>519</th>\n",
       "      <td>Camarillo</td>\n",
       "      <td>California</td>\n",
       "      <td>CA</td>\n",
       "      <td>67608</td>\n",
       "      <td>723926</td>\n",
       "      <td>23136</td>\n",
       "      <td>POINT (-119.0376023 34.2163937)</td>\n",
       "      <td>0</td>\n",
       "      <td>California</td>\n",
       "    </tr>\n",
       "    <tr>\n",
       "      <th>216</th>\n",
       "      <td>Simi Valley</td>\n",
       "      <td>California</td>\n",
       "      <td>CA</td>\n",
       "      <td>126788</td>\n",
       "      <td>722886</td>\n",
       "      <td>23130</td>\n",
       "      <td>POINT (-118.781482 34.2694474)</td>\n",
       "      <td>0</td>\n",
       "      <td>California</td>\n",
       "    </tr>\n",
       "  </tbody>\n",
       "</table>\n",
       "</div>"
      ],
      "text/plain": [
       "              city       state state_abb  population    USAF   WBAN  \\\n",
       "208  Thousand Oaks  California        CA      129339  723926  23136   \n",
       "281        Burbank  California        CA      105319  722880  23152   \n",
       "107         Oxnard  California        CA      207254  723927  93110   \n",
       "519      Camarillo  California        CA       67608  723926  23136   \n",
       "216    Simi Valley  California        CA      126788  722886  23130   \n",
       "\n",
       "                            geometry  index_right  EIA_Region  \n",
       "208  POINT (-118.8375937 34.1705609)            0  California  \n",
       "281  POINT (-118.3089661 34.1808392)            0  California  \n",
       "107  POINT (-119.1770516 34.1975048)            0  California  \n",
       "519  POINT (-119.0376023 34.2163937)            0  California  \n",
       "216   POINT (-118.781482 34.2694474)            0  California  "
      ]
     },
     "execution_count": 217,
     "metadata": {},
     "output_type": "execute_result"
    }
   ],
   "source": [
    "cities_located.head()"
   ]
  },
  {
   "cell_type": "code",
   "execution_count": 214,
   "metadata": {
    "collapsed": false
   },
   "outputs": [
    {
     "name": "stdout",
     "output_type": "stream",
     "text": [
      "California 177\n",
      "Carolinas 24\n",
      "Central 39\n",
      "Florida 55\n",
      "Mid Atlantic 88\n",
      "Midwest 110\n",
      "New England 41\n",
      "New York 12\n",
      "Northwest 82\n",
      "Southern 25\n",
      "Southwest 25\n",
      "TVA 15\n",
      "Texas 58\n"
     ]
    }
   ],
   "source": [
    "# how many cities in each region?\n",
    "for i, group in cities_located.groupby('EIA_Region'):\n",
    "    print i, len(group)"
   ]
  },
  {
   "cell_type": "code",
   "execution_count": 218,
   "metadata": {
    "collapsed": true
   },
   "outputs": [],
   "source": [
    "# write region-located city information to file\n",
    "with open('./data/region_cities.pickle', 'wb') as handle:\n",
    "    pickle.dump(cities_located.loc[:, ['city', 'state', 'state_abb', 'EIA_Region']],\\\n",
    "                handle, protocol=pickle.HIGHEST_PROTOCOL)"
   ]
  },
  {
   "cell_type": "code",
   "execution_count": 346,
   "metadata": {
    "collapsed": true
   },
   "outputs": [],
   "source": [
    "# read in the weather time series data for all US cities\n",
    "with open('./data/weather_series.pickle', 'rb') as handle:\n",
    "    weather = pickle.load(handle)"
   ]
  },
  {
   "cell_type": "code",
   "execution_count": 347,
   "metadata": {
    "collapsed": true
   },
   "outputs": [],
   "source": [
    "def weighted_avg(row, city_pops):\n",
    "\"\"\"\n",
    "computes the population-weighted avg of temperature for a set of cities\n",
    "(given that all cities are in single df row for a given time stamp)\n",
    "ignores NaN values and NaN-equivalent values in calculation\n",
    "\"\"\"\n",
    "    def exists(num):\n",
    "        # the 'missing value' representation from NOAA is (+/-) 9999 \n",
    "        if (num > 100) or (num < -100) or (np.isnan(num)):\n",
    "            return False\n",
    "        else:\n",
    "            return True\n",
    "    \n",
    "    indices = np.where(map(exists, row))[0]\n",
    "    # weighted average, using a mask array that filters out missing values\n",
    "    return np.average(row[indices], weights=np.array(city_pops)[indices])"
   ]
  },
  {
   "cell_type": "code",
   "execution_count": 423,
   "metadata": {
    "collapsed": true
   },
   "outputs": [],
   "source": [
    "def date_maker(row):\n",
    "    \"\"\"\n",
    "    generates datetime object from a dataframe row\n",
    "    \"\"\"\n",
    "    return datetime(row['year'], row['month'], row['day'], row['hour'])"
   ]
  },
  {
   "cell_type": "code",
   "execution_count": null,
   "metadata": {
    "collapsed": true
   },
   "outputs": [],
   "source": [
    "# use a consistent index object for all regional weather time series\n",
    "master_index = pd.date_range('2015-01-01 01:00:00', '2017-05-03 05:00:00', freq=\"1H\")"
   ]
  },
  {
   "cell_type": "markdown",
   "metadata": {},
   "source": [
    "### weighted average algorithm"
   ]
  },
  {
   "cell_type": "code",
   "execution_count": 349,
   "metadata": {
    "collapsed": false
   },
   "outputs": [
    {
     "name": "stdout",
     "output_type": "stream",
     "text": [
      "REGION: California\n",
      "0 of 177: Thousand Oaks, CA\n",
      "1 of 177: Burbank, CA\n",
      "2 of 177: Oxnard, CA\n",
      "3 of 177: Camarillo, CA\n",
      "4 of 177: Simi Valley, CA\n",
      "5 of 177: San Buenaventura, CA\n",
      "6 of 177: Santa Clarita, CA\n",
      "7 of 177: Santa Barbara, CA\n",
      "8 of 177: Palmdale, CA\n",
      "9 of 177: Lancaster, CA\n",
      "10 of 177: Santa Maria, CA\n",
      "11 of 177: Bakersfield, CA\n",
      "12 of 177: Porterville, CA\n",
      "13 of 177: Tulare, CA\n",
      "14 of 177: Hanford, CA\n",
      "15 of 177: Visalia, CA\n",
      "16 of 177: Fresno, CA\n",
      "17 of 177: Clovis, CA\n",
      "18 of 177: Madera, CA\n",
      "19 of 177: Merced, CA\n",
      "20 of 177: Turlock, CA\n",
      "21 of 177: Modesto, CA\n",
      "22 of 177: Tracy, CA\n",
      "23 of 177: Manteca, CA\n",
      "24 of 177: Stockton, CA\n",
      "25 of 177: Lodi, CA\n",
      "26 of 177: Elk Grove, CA\n",
      "27 of 177: Sacramento, CA\n",
      "28 of 177: Rancho Cordova, CA\n",
      "29 of 177: Folsom, CA\n",
      "30 of 177: Citrus Heights, CA\n",
      "31 of 177: Roseville, CA\n",
      "32 of 177: Rocklin, CA\n",
      "33 of 177: Gilroy, CA\n",
      "34 of 177: Delano, CA\n",
      "35 of 177: West Sacramento, CA\n",
      "36 of 177: San Clemente, CA\n",
      "37 of 177: Laguna Niguel, CA\n",
      "38 of 177: Mission Viejo, CA\n",
      "39 of 177: Newport Beach, CA\n",
      "40 of 177: Costa Mesa, CA\n",
      "41 of 177: Lake Forest, CA\n",
      "42 of 177: Huntington Beach, CA\n",
      "43 of 177: Irvine, CA\n",
      "44 of 177: Fountain Valley, CA\n",
      "45 of 177: Santa Ana, CA\n",
      "46 of 177: Tustin, CA\n",
      "47 of 177: Westminster, CA\n",
      "48 of 177: Long Beach, CA\n",
      "49 of 177: Garden Grove, CA\n",
      "50 of 177: Orange, CA\n",
      "51 of 177: Carson, CA\n",
      "52 of 177: Anaheim, CA\n",
      "53 of 177: Torrance, CA\n",
      "54 of 177: Redondo Beach, CA\n",
      "55 of 177: Lakewood, CA\n",
      "56 of 177: Buena Park, CA\n",
      "57 of 177: Fullerton, CA\n",
      "58 of 177: Corona, CA\n",
      "59 of 177: Bellflower, CA\n",
      "60 of 177: Gardena, CA\n",
      "61 of 177: Yorba Linda, CA\n",
      "62 of 177: Paramount, CA\n",
      "63 of 177: Compton, CA\n",
      "64 of 177: Norwalk, CA\n",
      "65 of 177: Hawthorne, CA\n",
      "66 of 177: Lynwood, CA\n",
      "67 of 177: La Habra, CA\n",
      "68 of 177: Downey, CA\n",
      "69 of 177: Eastvale, CA\n",
      "70 of 177: South Gate, CA\n",
      "71 of 177: Inglewood, CA\n",
      "72 of 177: Whittier, CA\n",
      "73 of 177: Huntington Park, CA\n",
      "74 of 177: Pico Rivera, CA\n",
      "75 of 177: Chino Hills, CA\n",
      "76 of 177: Jurupa Valley, CA\n",
      "77 of 177: Chino, CA\n",
      "78 of 177: Montebello, CA\n",
      "79 of 177: Santa Monica, CA\n",
      "80 of 177: Diamond Bar, CA\n",
      "81 of 177: Los Angeles, CA\n",
      "82 of 177: Pomona, CA\n",
      "83 of 177: Monterey Park, CA\n",
      "84 of 177: Ontario, CA\n",
      "85 of 177: El Monte, CA\n",
      "86 of 177: West Covina, CA\n",
      "87 of 177: Rosemead, CA\n",
      "88 of 177: Baldwin Park, CA\n",
      "89 of 177: Fontana, CA\n",
      "90 of 177: Alhambra, CA\n",
      "91 of 177: Upland, CA\n",
      "92 of 177: Rancho Cucamonga, CA\n",
      "93 of 177: Arcadia, CA\n",
      "94 of 177: Glendale, CA\n",
      "95 of 177: Pasadena, CA\n",
      "96 of 177: Placentia, CA\n",
      "97 of 177: Glendora, CA\n",
      "98 of 177: Aliso Viejo, CA\n",
      "99 of 177: Riverside, CA\n",
      "100 of 177: Oceanside, CA\n",
      "101 of 177: Rialto, CA\n",
      "102 of 177: Carlsbad, CA\n",
      "103 of 177: Lake Elsinore, CA\n",
      "104 of 177: Colton, CA\n",
      "105 of 177: Hesperia, CA\n",
      "106 of 177: Victorville, CA\n",
      "107 of 177: Encinitas, CA\n",
      "108 of 177: San Bernardino, CA\n",
      "109 of 177: Vista, CA\n",
      "110 of 177: Moreno Valley, CA\n",
      "111 of 177: Perris, CA\n",
      "112 of 177: Murrieta, CA\n",
      "113 of 177: Highland, CA\n",
      "114 of 177: Apple Valley, CA\n",
      "115 of 177: Menifee, CA\n",
      "116 of 177: Redlands, CA\n",
      "117 of 177: San Marcos, CA\n",
      "118 of 177: San Diego, CA\n",
      "119 of 177: Temecula, CA\n",
      "120 of 177: National City, CA\n",
      "121 of 177: Escondido, CA\n",
      "122 of 177: Chula Vista, CA\n",
      "123 of 177: La Mesa, CA\n",
      "124 of 177: Santee, CA\n",
      "125 of 177: Hemet, CA\n",
      "126 of 177: El Cajon, CA\n",
      "127 of 177: Cathedral City, CA\n",
      "128 of 177: Indio, CA\n",
      "129 of 177: Yucaipa, CA\n",
      "130 of 177: Palm Desert, CA\n",
      "131 of 177: Poway, CA\n",
      "132 of 177: Santa Rosa, CA\n",
      "133 of 177: Daly City, CA\n",
      "134 of 177: San Francisco, CA\n",
      "135 of 177: Redding, CA\n",
      "136 of 177: Richmond, CA\n",
      "137 of 177: San Mateo, CA\n",
      "138 of 177: Berkeley, CA\n",
      "139 of 177: Oakland, CA\n",
      "140 of 177: Vallejo, CA\n",
      "141 of 177: Redwood City, CA\n",
      "142 of 177: San Leandro, CA\n",
      "143 of 177: Hayward, CA\n",
      "144 of 177: Fairfield, CA\n",
      "145 of 177: Sunnyvale, CA\n",
      "146 of 177: Concord, CA\n",
      "147 of 177: Fremont, CA\n",
      "148 of 177: Vacaville, CA\n",
      "149 of 177: Santa Clara, CA\n",
      "150 of 177: San Jose, CA\n",
      "151 of 177: Chico, CA\n",
      "152 of 177: Antioch, CA\n",
      "153 of 177: Livermore, CA\n",
      "154 of 177: Salinas, CA\n",
      "155 of 177: Mountain View, CA\n",
      "156 of 177: Napa, CA\n",
      "157 of 177: Pleasanton, CA\n",
      "158 of 177: Alameda, CA\n",
      "159 of 177: Milpitas, CA\n",
      "160 of 177: San Ramon, CA\n",
      "161 of 177: Union City, CA\n",
      "162 of 177: Pittsburg, CA\n",
      "163 of 177: Walnut Creek, CA\n",
      "164 of 177: Davis, CA\n",
      "165 of 177: South San Francisco, CA\n",
      "166 of 177: Yuba City, CA\n",
      "167 of 177: Palo Alto, CA\n",
      "168 of 177: Santa Cruz, CA\n",
      "169 of 177: Cupertino, CA\n",
      "170 of 177: Petaluma, CA\n",
      "171 of 177: San Rafael, CA\n",
      "172 of 177: Brentwood, CA\n",
      "173 of 177: Woodland, CA\n",
      "174 of 177: Dublin, CA\n",
      "175 of 177: Novato, CA\n",
      "176 of 177: Watsonville, CA\n",
      "REGION: Carolinas\n",
      "0 of 24: Charleston, SC\n",
      "1 of 24: Mount Pleasant, SC\n",
      "2 of 24: North Charleston, SC\n",
      "3 of 24: Columbia, SC\n",
      "4 of 24: Wilmington, NC\n",
      "5 of 24: Jacksonville, NC\n",
      "6 of 24: Greenville, SC\n",
      "7 of 24: Rock Hill, SC\n",
      "8 of 24: Fayetteville, NC\n",
      "9 of 24: Charlotte, NC\n",
      "10 of 24: Gastonia, NC\n",
      "11 of 24: Concord, NC\n",
      "12 of 24: Asheville, NC\n",
      "13 of 24: Greenville, NC\n",
      "14 of 24: Raleigh, NC\n",
      "15 of 24: Cary, NC\n",
      "16 of 24: Chapel Hill, NC\n",
      "17 of 24: Rocky Mount, NC\n",
      "18 of 24: High Point, NC\n",
      "19 of 24: Durham, NC\n",
      "20 of 24: Greensboro, NC\n",
      "21 of 24: Winston-Salem, NC\n",
      "22 of 24: Huntersville, NC\n",
      "23 of 24: Burlington, NC\n",
      "REGION: Central\n",
      "0 of 39: Lubbock, TX\n",
      "1 of 39: Amarillo, TX\n",
      "2 of 39: Omaha, NE\n",
      "3 of 39: Bellevue, NE\n",
      "4 of 39: Norman, OK\n",
      "5 of 39: Moore, OK\n",
      "6 of 39: Fort Smith, AR\n",
      "7 of 39: Midwest City, OK\n",
      "8 of 39: Oklahoma City, OK\n",
      "9 of 39: Edmond, OK\n",
      "10 of 39: Jonesboro, AR\n",
      "11 of 39: Broken Arrow, OK\n",
      "12 of 39: Fayetteville, AR\n",
      "13 of 39: Tulsa, OK\n",
      "14 of 39: Springdale, AR\n",
      "15 of 39: Rogers, AR\n",
      "16 of 39: Springfield, MO\n",
      "17 of 39: Wichita, KS\n",
      "18 of 39: Olathe, KS\n",
      "19 of 39: Lee's Summit, MO\n",
      "20 of 39: Lawrence, KS\n",
      "21 of 39: Overland Park, KS\n",
      "22 of 39: Shawnee, KS\n",
      "23 of 39: Topeka, KS\n",
      "24 of 39: Independence, MO\n",
      "25 of 39: Kansas City, MO\n",
      "26 of 39: Kansas City, KS\n",
      "27 of 39: St. Joseph, MO\n",
      "28 of 39: Lincoln, NE\n",
      "29 of 39: Manhattan, KS\n",
      "30 of 39: Blue Springs, MO\n",
      "31 of 39: Lenexa, KS\n",
      "32 of 39: Joplin, MO\n",
      "33 of 39: Enid, OK\n",
      "34 of 39: Grand Island, NE\n",
      "35 of 39: Longview, TX\n",
      "36 of 39: Shreveport, LA\n",
      "37 of 39: Lawton, OK\n",
      "38 of 39: Bossier City, LA\n",
      "REGION: Florida\n",
      "0 of 55: Jacksonville, FL\n",
      "1 of 55: Tallahassee, FL\n",
      "2 of 55: Homestead, FL\n",
      "3 of 55: Miami, FL\n",
      "4 of 55: Miami Beach, FL\n",
      "5 of 55: Doral, FL\n",
      "6 of 55: Hialeah, FL\n",
      "7 of 55: North Miami, FL\n",
      "8 of 55: Miami Gardens, FL\n",
      "9 of 55: Miramar, FL\n",
      "10 of 55: Pembroke Pines, FL\n",
      "11 of 55: Hollywood, FL\n",
      "12 of 55: Davie, FL\n",
      "13 of 55: Weston, FL\n",
      "14 of 55: Fort Lauderdale, FL\n",
      "15 of 55: Plantation, FL\n",
      "16 of 55: Lauderhill, FL\n",
      "17 of 55: Sunrise, FL\n",
      "18 of 55: Tamarac, FL\n",
      "19 of 55: Pompano Beach, FL\n",
      "20 of 55: Margate, FL\n",
      "21 of 55: Coconut Creek, FL\n",
      "22 of 55: Coral Springs, FL\n",
      "23 of 55: Deerfield Beach, FL\n",
      "24 of 55: Boca Raton, FL\n",
      "25 of 55: Delray Beach, FL\n",
      "26 of 55: Boynton Beach, FL\n",
      "27 of 55: Cape Coral, FL\n",
      "28 of 55: Fort Myers, FL\n",
      "29 of 55: Wellington, FL\n",
      "30 of 55: West Palm Beach, FL\n",
      "31 of 55: Jupiter, FL\n",
      "32 of 55: North Port, FL\n",
      "33 of 55: Port St. Lucie, FL\n",
      "34 of 55: Largo, FL\n",
      "35 of 55: Tampa, FL\n",
      "36 of 55: Clearwater, FL\n",
      "37 of 55: Palm Bay, FL\n",
      "38 of 55: Lakeland, FL\n",
      "39 of 55: Melbourne, FL\n",
      "40 of 55: Kissimmee, FL\n",
      "41 of 55: Orlando, FL\n",
      "42 of 55: Sanford, FL\n",
      "43 of 55: Deltona, FL\n",
      "44 of 55: Port Orange, FL\n",
      "45 of 55: Ocala, FL\n",
      "46 of 55: Daytona Beach, FL\n",
      "47 of 55: Palm Coast, FL\n",
      "48 of 55: Gainesville, FL\n",
      "49 of 55: Sarasota, FL\n",
      "50 of 55: Bradenton, FL\n",
      "51 of 55: Palm Beach Gardens, FL\n",
      "52 of 55: Bonita Springs, FL\n",
      "53 of 55: Pinellas Park, FL\n",
      "54 of 55: Coral Gables, FL\n",
      "REGION: Mid Atlantic\n",
      "0 of 88: Joliet, IL\n",
      "1 of 88: Tinley Park, IL\n",
      "2 of 88: Orland Park, IL\n",
      "3 of 88: Bolingbrook, IL\n",
      "4 of 88: Naperville, IL\n",
      "5 of 88: Aurora, IL\n",
      "6 of 88: Cicero, IL\n",
      "7 of 88: Chicago, IL\n",
      "8 of 88: Skokie, IL\n",
      "9 of 88: Schaumburg, IL\n",
      "10 of 88: Des Plaines, IL\n",
      "11 of 88: Elgin, IL\n",
      "12 of 88: Evanston, IL\n",
      "13 of 88: Arlington Heights, IL\n",
      "14 of 88: Palatine, IL\n",
      "15 of 88: Rockford, IL\n",
      "16 of 88: Waukegan, IL\n",
      "17 of 88: Oak Lawn, IL\n",
      "18 of 88: Berwyn, IL\n",
      "19 of 88: Mount Prospect, IL\n",
      "20 of 88: Wheaton, IL\n",
      "21 of 88: Oak Park, IL\n",
      "22 of 88: Hoffman Estates, IL\n",
      "23 of 88: Elizabeth, NJ\n",
      "24 of 88: Newark, NJ\n",
      "25 of 88: Paterson, NJ\n",
      "26 of 88: Clifton, NJ\n",
      "27 of 88: Passaic, NJ\n",
      "28 of 88: Jersey City, NJ\n",
      "29 of 88: Union City, NJ\n",
      "30 of 88: Bayonne, NJ\n",
      "31 of 88: East Orange, NJ\n",
      "32 of 88: New Brunswick, NJ\n",
      "33 of 88: Hoboken, NJ\n",
      "34 of 88: West New York, NJ\n",
      "35 of 88: Perth Amboy, NJ\n",
      "36 of 88: Plainfield, NJ\n",
      "37 of 88: South Bend, IN\n",
      "38 of 88: Muncie, IN\n",
      "39 of 88: Fort Wayne, IN\n",
      "40 of 88: Cincinnati, OH\n",
      "41 of 88: Dayton, OH\n",
      "42 of 88: Toledo, OH\n",
      "43 of 88: Columbus, OH\n",
      "44 of 88: Parma, OH\n",
      "45 of 88: Cleveland, OH\n",
      "46 of 88: Akron, OH\n",
      "47 of 88: Canton, OH\n",
      "48 of 88: Erie, PA\n",
      "49 of 88: Pittsburgh, PA\n",
      "50 of 88: Roanoke, VA\n",
      "51 of 88: Lynchburg, VA\n",
      "52 of 88: Richmond, VA\n",
      "53 of 88: Frederick, MD\n",
      "54 of 88: Gaithersburg, MD\n",
      "55 of 88: Alexandria, VA\n",
      "56 of 88: Washington, DC\n",
      "57 of 88: Baltimore, MD\n",
      "58 of 88: Suffolk, VA\n",
      "59 of 88: Newport News, VA\n",
      "60 of 88: Hampton, VA\n",
      "61 of 88: Portsmouth, VA\n",
      "62 of 88: Chesapeake, VA\n",
      "63 of 88: Norfolk, VA\n",
      "64 of 88: Virginia Beach, VA\n",
      "65 of 88: Reading, PA\n",
      "66 of 88: Scranton, PA\n",
      "67 of 88: Wilmington, DE\n",
      "68 of 88: Allentown, PA\n",
      "69 of 88: Bethlehem, PA\n",
      "70 of 88: Philadelphia, PA\n",
      "71 of 88: Camden, NJ\n",
      "72 of 88: Trenton, NJ\n",
      "73 of 88: Rockville, MD\n",
      "74 of 88: Youngstown, OH\n",
      "75 of 88: Lorain, OH\n",
      "76 of 88: Hamilton, OH\n",
      "77 of 88: Vineland, NJ\n",
      "78 of 88: Springfield, OH\n",
      "79 of 88: Lancaster, PA\n",
      "80 of 88: Bowie, MD\n",
      "81 of 88: Kettering, OH\n",
      "82 of 88: Anderson, IN\n",
      "83 of 88: Elyria, OH\n",
      "84 of 88: Harrisonburg, VA\n",
      "85 of 88: Elkhart, IN\n",
      "86 of 88: Leesburg, VA\n",
      "87 of 88: Lakewood, OH\n",
      "REGION: Midwest\n",
      "0 of 110: Bismarck, ND\n",
      "1 of 110: Council Bluffs, IA\n",
      "2 of 110: Davenport, IA\n",
      "3 of 110: West Des Moines, IA\n",
      "4 of 110: Hammond, IN\n",
      "5 of 110: Gary, IN\n",
      "6 of 110: Des Moines, IA\n",
      "7 of 110: Iowa City, IA\n",
      "8 of 110: Cedar Rapids, IA\n",
      "9 of 110: Ames, IA\n",
      "10 of 110: Waterloo, IA\n",
      "11 of 110: Sioux City, IA\n",
      "12 of 110: Dubuque, IA\n",
      "13 of 110: Kenosha, WI\n",
      "14 of 110: Janesville, WI\n",
      "15 of 110: Racine, WI\n",
      "16 of 110: Waukesha, WI\n",
      "17 of 110: West Allis, WI\n",
      "18 of 110: Milwaukee, WI\n",
      "19 of 110: Madison, WI\n",
      "20 of 110: Sioux Falls, SD\n",
      "21 of 110: Rochester, MN\n",
      "22 of 110: Oshkosh, WI\n",
      "23 of 110: Appleton, WI\n",
      "24 of 110: Green Bay, WI\n",
      "25 of 110: Lakeville, MN\n",
      "26 of 110: Burnsville, MN\n",
      "27 of 110: Eagan, MN\n",
      "28 of 110: Eau Claire, WI\n",
      "29 of 110: Bloomington, MN\n",
      "30 of 110: Eden Prairie, MN\n",
      "31 of 110: Woodbury, MN\n",
      "32 of 110: St. Paul, MN\n",
      "33 of 110: Minneapolis, MN\n",
      "34 of 110: Plymouth, MN\n",
      "35 of 110: Maple Grove, MN\n",
      "36 of 110: Brooklyn Park, MN\n",
      "37 of 110: Blaine, MN\n",
      "38 of 110: Coon Rapids, MN\n",
      "39 of 110: St. Cloud, MN\n",
      "40 of 110: Duluth, MN\n",
      "41 of 110: Fargo, ND\n",
      "42 of 110: Grand Forks, ND\n",
      "43 of 110: Ankeny, IA\n",
      "44 of 110: La Crosse, WI\n",
      "45 of 110: Minnetonka, MN\n",
      "46 of 110: Apple Valley, MN\n",
      "47 of 110: Edina, MN\n",
      "48 of 110: Conway, AR\n",
      "49 of 110: Evansville, IN\n",
      "50 of 110: St. Louis, MO\n",
      "51 of 110: St. Charles, MO\n",
      "52 of 110: O'Fallon, MO\n",
      "53 of 110: Columbia, MO\n",
      "54 of 110: Terre Haute, IN\n",
      "55 of 110: Springfield, IL\n",
      "56 of 110: Decatur, IL\n",
      "57 of 110: Champaign, IL\n",
      "58 of 110: Bloomington, IL\n",
      "59 of 110: Peoria, IL\n",
      "60 of 110: St. Peters, MO\n",
      "61 of 110: Normal, IL\n",
      "62 of 110: Southaven, MS\n",
      "63 of 110: Florissant, MO\n",
      "64 of 110: Lafayette, IN\n",
      "65 of 110: Bloomington, IN\n",
      "66 of 110: Indianapolis, IN\n",
      "67 of 110: Carmel, IN\n",
      "68 of 110: Fishers, IN\n",
      "69 of 110: Louisville, KY\n",
      "70 of 110: Wyoming, MI\n",
      "71 of 110: Grand Rapids, MI\n",
      "72 of 110: Kalamazoo, MI\n",
      "73 of 110: Lansing, MI\n",
      "74 of 110: Lexington, KY\n",
      "75 of 110: Ann Arbor, MI\n",
      "76 of 110: Flint, MI\n",
      "77 of 110: Westland, MI\n",
      "78 of 110: Farmington Hills, MI\n",
      "79 of 110: Livonia, MI\n",
      "80 of 110: Southfield, MI\n",
      "81 of 110: Dearborn, MI\n",
      "82 of 110: Rochester Hills, MI\n",
      "83 of 110: Troy, MI\n",
      "84 of 110: Detroit, MI\n",
      "85 of 110: Sterling Heights, MI\n",
      "86 of 110: Warren, MI\n",
      "87 of 110: Taylor, MI\n",
      "88 of 110: Pontiac, MI\n",
      "89 of 110: St. Clair Shores, MI\n",
      "90 of 110: Noblesville, IN\n",
      "91 of 110: Owensboro, KY\n",
      "92 of 110: Royal Oak, MI\n",
      "93 of 110: Novi, MI\n",
      "94 of 110: Kokomo, IN\n",
      "95 of 110: Dearborn Heights, MI\n",
      "96 of 110: Greenwood, IN\n",
      "97 of 110: Battle Creek, MI\n",
      "98 of 110: Kentwood, MI\n",
      "99 of 110: New Orleans, LA\n",
      "100 of 110: Beaumont, TX\n",
      "101 of 110: Lafayette, LA\n",
      "102 of 110: Baton Rouge, LA\n",
      "103 of 110: Jackson, MS\n",
      "104 of 110: Little Rock, AR\n",
      "105 of 110: Lake Charles, LA\n",
      "106 of 110: Conroe, TX\n",
      "107 of 110: Kenner, LA\n",
      "108 of 110: North Little Rock, AR\n",
      "109 of 110: Port Arthur, TX\n",
      "REGION: New England\n",
      "0 of 41: Stamford, CT\n",
      "1 of 41: Danbury, CT\n",
      "2 of 41: Norwalk, CT\n",
      "3 of 41: Bridgeport, CT\n",
      "4 of 41: Waterbury, CT\n",
      "5 of 41: New Haven, CT\n",
      "6 of 41: New Britain, CT\n",
      "7 of 41: Hartford, CT\n",
      "8 of 41: Springfield, MA\n",
      "9 of 41: Worcester, MA\n",
      "10 of 41: Nashua, NH\n",
      "11 of 41: Manchester, NH\n",
      "12 of 41: Cranston, RI\n",
      "13 of 41: Warwick, RI\n",
      "14 of 41: Providence, RI\n",
      "15 of 41: Pawtucket, RI\n",
      "16 of 41: Lowell, MA\n",
      "17 of 41: Newton, MA\n",
      "18 of 41: Lawrence, MA\n",
      "19 of 41: Fall River, MA\n",
      "20 of 41: Cambridge, MA\n",
      "21 of 41: Somerville, MA\n",
      "22 of 41: Boston, MA\n",
      "23 of 41: Brockton, MA\n",
      "24 of 41: Quincy, MA\n",
      "25 of 41: Lynn, MA\n",
      "26 of 41: New Bedford, MA\n",
      "27 of 41: Portland, ME\n",
      "28 of 41: Waltham, MA\n",
      "29 of 41: Haverhill, MA\n",
      "30 of 41: Malden, MA\n",
      "31 of 41: Bristol, CT\n",
      "32 of 41: Meriden, CT\n",
      "33 of 41: Medford, MA\n",
      "34 of 41: Taunton, MA\n",
      "35 of 41: Chicopee, MA\n",
      "36 of 41: Weymouth Town, MA\n",
      "37 of 41: West Haven, CT\n",
      "38 of 41: Revere, MA\n",
      "39 of 41: Peabody, MA\n",
      "40 of 41: Milford, CT\n",
      "REGION: New York\n",
      "0 of 12: New York, NY\n",
      "1 of 12: Yonkers, NY\n",
      "2 of 12: Mount Vernon, NY\n",
      "3 of 12: New Rochelle, NY\n",
      "4 of 12: Albany, NY\n",
      "5 of 12: Schenectady, NY\n",
      "6 of 12: White Plains, NY\n",
      "7 of 12: Hempstead, NY\n",
      "8 of 12: Buffalo, NY\n",
      "9 of 12: Rochester, NY\n",
      "10 of 12: Syracuse, NY\n",
      "11 of 12: Utica, NY\n",
      "REGION: Northwest\n",
      "0 of 82: Pocatello, ID\n",
      "1 of 82: Idaho Falls, ID\n",
      "2 of 82: West Valley City, UT\n",
      "3 of 82: Ogden, UT\n",
      "4 of 82: Layton, UT\n",
      "5 of 82: West Jordan, UT\n",
      "6 of 82: Taylorsville, UT\n",
      "7 of 82: South Jordan, UT\n",
      "8 of 82: Salt Lake City, UT\n",
      "9 of 82: Lehi, UT\n",
      "10 of 82: Sandy, UT\n",
      "11 of 82: Orem, UT\n",
      "12 of 82: Provo, UT\n",
      "13 of 82: Great Falls, MT\n",
      "14 of 82: Grand Junction, CO\n",
      "15 of 82: Billings, MT\n",
      "16 of 82: Casper, WY\n",
      "17 of 82: Boulder, CO\n",
      "18 of 82: Longmont, CO\n",
      "19 of 82: Arvada, CO\n",
      "20 of 82: Broomfield, CO\n",
      "21 of 82: Fort Collins, CO\n",
      "22 of 82: Lakewood, CO\n",
      "23 of 82: Loveland, CO\n",
      "24 of 82: Westminster, CO\n",
      "25 of 82: Denver, CO\n",
      "26 of 82: Thornton, CO\n",
      "27 of 82: Commerce City, CO\n",
      "28 of 82: Centennial, CO\n",
      "29 of 82: Castle Rock, CO\n",
      "30 of 82: Aurora, CO\n",
      "31 of 82: Colorado Springs, CO\n",
      "32 of 82: Cheyenne, WY\n",
      "33 of 82: Greeley, CO\n",
      "34 of 82: Pueblo, CO\n",
      "35 of 82: Rapid City, SD\n",
      "36 of 82: Logan, UT\n",
      "37 of 82: Carson City, NV\n",
      "38 of 82: Reno, NV\n",
      "39 of 82: Sparks, NV\n",
      "40 of 82: Bend, OR\n",
      "41 of 82: Kennewick, WA\n",
      "42 of 82: Pasco, WA\n",
      "43 of 82: Yakima, WA\n",
      "44 of 82: Spokane, WA\n",
      "45 of 82: Richland, WA\n",
      "46 of 82: Spokane Valley, WA\n",
      "47 of 82: Nampa, ID\n",
      "48 of 82: Meridian, ID\n",
      "49 of 82: Boise City, ID\n",
      "50 of 82: Missoula, MT\n",
      "51 of 82: St. George, UT\n",
      "52 of 82: Caldwell, ID\n",
      "53 of 82: Eugene, OR\n",
      "54 of 82: Salem, OR\n",
      "55 of 82: Hillsboro, OR\n",
      "56 of 82: Beaverton, OR\n",
      "57 of 82: Portland, OR\n",
      "58 of 82: Vancouver, WA\n",
      "59 of 82: Tacoma, WA\n",
      "60 of 82: Gresham, OR\n",
      "61 of 82: Seattle, WA\n",
      "62 of 82: Federal Way, WA\n",
      "63 of 82: Kent, WA\n",
      "64 of 82: Renton, WA\n",
      "65 of 82: Kirkland, WA\n",
      "66 of 82: Everett, WA\n",
      "67 of 82: Bellevue, WA\n",
      "68 of 82: Bellingham, WA\n",
      "69 of 82: Medford, OR\n",
      "70 of 82: Auburn, WA\n",
      "71 of 82: Marysville, WA\n",
      "72 of 82: Springfield, OR\n",
      "73 of 82: Redmond, WA\n",
      "74 of 82: Lakewood, WA\n",
      "75 of 82: Corvallis, OR\n",
      "76 of 82: Shoreline, WA\n",
      "77 of 82: Sammamish, WA\n",
      "78 of 82: Albany, OR\n",
      "79 of 82: Tigard, OR\n",
      "80 of 82: Burien, WA\n",
      "81 of 82: Olympia, WA\n",
      "REGION: Southern\n",
      "0 of 25: Valdosta, GA\n",
      "1 of 25: Dothan, AL\n",
      "2 of 25: Albany, GA\n",
      "3 of 25: Savannah, GA\n",
      "4 of 25: Montgomery, AL\n",
      "5 of 25: Columbus, GA\n",
      "6 of 25: Auburn, AL\n",
      "7 of 25: Warner Robins, GA\n",
      "8 of 25: Macon, GA\n",
      "9 of 25: Hoover, AL\n",
      "10 of 25: Augusta-Richmond County, GA\n",
      "11 of 25: Birmingham, AL\n",
      "12 of 25: Atlanta, GA\n",
      "13 of 25: Smyrna, GA\n",
      "14 of 25: Sandy Springs, GA\n",
      "15 of 25: Athens-Clarke County, GA\n",
      "16 of 25: Marietta, GA\n",
      "17 of 25: Roswell, GA\n",
      "18 of 25: Johns Creek, GA\n",
      "19 of 25: Alpharetta, GA\n",
      "20 of 25: Pensacola, FL\n",
      "21 of 25: Brookhaven, GA\n",
      "22 of 25: Mobile, AL\n",
      "23 of 25: Tuscaloosa, AL\n",
      "24 of 25: Gulfport, MS\n",
      "REGION: Southwest\n",
      "0 of 25: Buckeye, AZ\n",
      "1 of 25: Surprise, AZ\n",
      "2 of 25: Goodyear, AZ\n",
      "3 of 25: Avondale, AZ\n",
      "4 of 25: Peoria, AZ\n",
      "5 of 25: Glendale, AZ\n",
      "6 of 25: Phoenix, AZ\n",
      "7 of 25: Tempe, AZ\n",
      "8 of 25: Scottsdale, AZ\n",
      "9 of 25: Chandler, AZ\n",
      "10 of 25: Mesa, AZ\n",
      "11 of 25: Gilbert, AZ\n",
      "12 of 25: Flagstaff, AZ\n",
      "13 of 25: Tucson, AZ\n",
      "14 of 25: Las Cruces, NM\n",
      "15 of 25: Rio Rancho, NM\n",
      "16 of 25: Albuquerque, NM\n",
      "17 of 25: El Paso, TX\n",
      "18 of 25: Santa Fe, NM\n",
      "19 of 25: Casa Grande, AZ\n",
      "20 of 25: Las Vegas, NV\n",
      "21 of 25: North Las Vegas, NV\n",
      "22 of 25: Henderson, NV\n",
      "23 of 25: Yuma, AZ\n",
      "24 of 25: Lake Havasu City, AZ\n",
      "REGION: TVA\n",
      "0 of 15: Decatur, AL\n",
      "1 of 15: Huntsville, AL\n",
      "2 of 15: Chattanooga, TN\n",
      "3 of 15: Murfreesboro, TN\n",
      "4 of 15: Franklin, TN\n",
      "5 of 15: Knoxville, TN\n",
      "6 of 15: Nashville, TN\n",
      "7 of 15: Hendersonville, TN\n",
      "8 of 15: Johnson City, TN\n",
      "9 of 15: Memphis, TN\n",
      "10 of 15: Bartlett, TN\n",
      "11 of 15: Jackson, TN\n",
      "12 of 15: Clarksville, TN\n",
      "13 of 15: Bowling Green, KY\n",
      "14 of 15: Kingsport, TN\n",
      "REGION: Texas\n",
      "0 of 58: Odessa, TX\n",
      "1 of 58: Midland, TX\n",
      "2 of 58: Brownsville, TX\n",
      "3 of 58: McAllen, TX\n",
      "4 of 58: Mission, TX\n",
      "5 of 58: Edinburg, TX\n",
      "6 of 58: Laredo, TX\n",
      "7 of 58: Corpus Christi, TX\n",
      "8 of 58: San Antonio, TX\n",
      "9 of 58: League City, TX\n",
      "10 of 58: Pearland, TX\n",
      "11 of 58: Sugar Land, TX\n",
      "12 of 58: Pasadena, TX\n",
      "13 of 58: Houston, TX\n",
      "14 of 58: Austin, TX\n",
      "15 of 58: Round Rock, TX\n",
      "16 of 58: College Station, TX\n",
      "17 of 58: Bryan, TX\n",
      "18 of 58: Killeen, TX\n",
      "19 of 58: San Angelo, TX\n",
      "20 of 58: Waco, TX\n",
      "21 of 58: Tyler, TX\n",
      "22 of 58: Abilene, TX\n",
      "23 of 58: Arlington, TX\n",
      "24 of 58: Grand Prairie, TX\n",
      "25 of 58: Fort Worth, TX\n",
      "26 of 58: Mesquite, TX\n",
      "27 of 58: Dallas, TX\n",
      "28 of 58: Irving, TX\n",
      "29 of 58: Garland, TX\n",
      "30 of 58: Richardson, TX\n",
      "31 of 58: Carrollton, TX\n",
      "32 of 58: Plano, TX\n",
      "33 of 58: Lewisville, TX\n",
      "34 of 58: Allen, TX\n",
      "35 of 58: Frisco, TX\n",
      "36 of 58: McKinney, TX\n",
      "37 of 58: Denton, TX\n",
      "38 of 58: Wichita Falls, TX\n",
      "39 of 58: Pharr, TX\n",
      "40 of 58: Baytown, TX\n",
      "41 of 58: Missouri City, TX\n",
      "42 of 58: Temple, TX\n",
      "43 of 58: Flower Mound, TX\n",
      "44 of 58: New Braunfels, TX\n",
      "45 of 58: North Richland Hills, TX\n",
      "46 of 58: Victoria, TX\n",
      "47 of 58: Cedar Park, TX\n",
      "48 of 58: Harlingen, TX\n",
      "49 of 58: Mansfield, TX\n",
      "50 of 58: Georgetown, TX\n",
      "51 of 58: San Marcos, TX\n",
      "52 of 58: Rowlett, TX\n",
      "53 of 58: Pflugerville, TX\n",
      "54 of 58: Euless, TX\n",
      "55 of 58: DeSoto, TX\n",
      "56 of 58: Grapevine, TX\n",
      "57 of 58: Galveston, TX\n"
     ]
    }
   ],
   "source": [
    "# finally, compute population weighted averages for each EIA power region\n",
    "region_weather_dict = {}\n",
    "\n",
    "# iterate through each EIA region of member-cities\n",
    "for region, cities in cities_located.groupby('EIA_Region'):\n",
    "    print 'REGION: {}'.format(region)\n",
    "    cities.reset_index(drop=True, inplace=True)\n",
    "    # get population for entire region (all member cities)\n",
    "    region_pop = cities.population.sum()\n",
    "    # also need an array of city populations to use in the weighted avg\n",
    "    city_pops = []\n",
    "    # initiate a dataframe at the region level\n",
    "    region_weather = pd.DataFrame(index=master_index)\n",
    "    # iterate through each city in the region\n",
    "    for i, city in cities.iterrows():\n",
    "        city_pops.append(city['population'])\n",
    "        city_index = city['city'] + ', ' + city['state_abb']\n",
    "        print '{} of {}: {}'.format(i, len(cities), city_index)\n",
    "        # pull in the weather series for the given city\n",
    "        city_weather = weather[city_index]\n",
    "        city_weather['date_index'] = city_weather.apply(date_maker, axis=1)\n",
    "        city_weather.set_index('date_index', drop=True, inplace=True)\n",
    "        city_weather.drop(['year', 'month', 'day', 'hour'], axis=1, inplace=True)\n",
    "        # note: NOAA provides temperatures at 10X scale; remove this\n",
    "        city_weather.loc[:, 'temp'] = city_weather.loc[:, 'temp'] / 10.0\n",
    "        city_weather.columns = [city['city'] + '_temp']\n",
    "        # merge with region-level dataframe on datetime index\n",
    "        region_weather = region_weather.merge(city_weather, how='left', left_index=True, right_index=True)\n",
    "    # population-weighted mean for temperature, across rows for each timestamp\n",
    "    avg_weather = region_weather.apply(lambda row: weighted_avg(row, city_pops), axis=1)\n",
    "    region_weather_dict[region] = avg_weather\n"
   ]
  },
  {
   "cell_type": "code",
   "execution_count": 350,
   "metadata": {
    "collapsed": true
   },
   "outputs": [],
   "source": [
    "with open('./data/region_weather.pickle', 'wb') as handle:\n",
    "    pickle.dump(region_weather_dict, handle, protocol=pickle.HIGHEST_PROTOCOL)"
   ]
  },
  {
   "cell_type": "code",
   "execution_count": 35,
   "metadata": {
    "collapsed": true
   },
   "outputs": [],
   "source": [
    "# aggregate regional weather to the daily level,\n",
    "# capturing both daily highs (for cooling demand in summer)\n",
    "# and daily lows (for heating demand in winter)\n",
    "regional_highs = {}\n",
    "regional_lows = {}\n",
    "\n",
    "for key in region_weather_dict.keys():\n",
    "    regional_highs[key] = region_weather_dict[key].resample('1D').max()\n",
    "    regional_lows[key] = region_weather_dict[key].resample('1D').min()"
   ]
  },
  {
   "cell_type": "code",
   "execution_count": 36,
   "metadata": {
    "collapsed": true
   },
   "outputs": [],
   "source": [
    "# write highs and lows to file\n",
    "with open('./data/region_highs.pickle', 'wb') as handle:\n",
    "    pickle.dump(regional_highs, handle, protocol=pickle.HIGHEST_PROTOCOL)\n",
    "    \n",
    "with open('./data/region_lows.pickle', 'wb') as handle:\n",
    "    pickle.dump(regional_lows, handle, protocol=pickle.HIGHEST_PROTOCOL)"
   ]
  },
  {
   "cell_type": "code",
   "execution_count": 3,
   "metadata": {
    "collapsed": true
   },
   "outputs": [],
   "source": [
    "with open('./data/region_highs.pickle', 'rb') as handle:\n",
    "    regional_highs = pickle.load(handle)\n",
    "\n",
    "with open('./data/region_lows.pickle', 'rb') as handle:\n",
    "    regional_lows = pickle.load(handle)"
   ]
  },
  {
   "cell_type": "markdown",
   "metadata": {},
   "source": [
    "### cleaning up the power demand data"
   ]
  },
  {
   "cell_type": "code",
   "execution_count": 23,
   "metadata": {
    "collapsed": true
   },
   "outputs": [],
   "source": [
    "with open('./data/power_series.pickle', 'rb') as handle:\n",
    "    demand = pickle.load(handle)"
   ]
  },
  {
   "cell_type": "code",
   "execution_count": 24,
   "metadata": {
    "collapsed": true
   },
   "outputs": [],
   "source": [
    "# rename demand dict keys\n",
    "demand['Mid Atlantic'] = demand.pop('Demand for Mid-Atlantic (region), Hourly')\n",
    "demand['TVA'] = demand.pop('Demand for Tennessee Valley Authority (TVA), Hourly')\n",
    "demand['Southwest'] = demand.pop('Demand for Southwest (region), Hourly')\n",
    "demand['California'] = demand.pop('Demand for California (region), Hourly')\n",
    "demand['Texas'] = demand.pop('Demand for Electric Reliability Council of Texas, Inc. (ERCO), Hourly')\n",
    "demand['Florida'] = demand.pop('Demand for Florida (region), Hourly')\n",
    "demand['New York'] = demand.pop('Demand for New York Independent System Operator (NYIS), Hourly')\n",
    "demand['Northwest'] = demand.pop('Demand for Northwest (region), Hourly')\n",
    "demand['Midwest'] = demand.pop('Demand for Midwest (region), Hourly')\n",
    "demand['Central'] = demand.pop('Demand for Central (region), Hourly')\n",
    "demand['Southern'] = demand.pop('Demand for Southeast (region), Hourly')\n",
    "demand['New England'] = demand.pop('Demand for New England ISO (ISNE), Hourly')\n",
    "demand['Carolinas'] = demand.pop('Demand for Carolinas (region), Hourly')"
   ]
  },
  {
   "cell_type": "code",
   "execution_count": 25,
   "metadata": {
    "collapsed": true
   },
   "outputs": [],
   "source": [
    "# convert demand time series timestamps to real timestamps for use in axis\n",
    "def str_to_time(stamp):\n",
    "    \"\"\"\n",
    "    converts a timestamp string into proper datetime object\n",
    "    \"\"\"\n",
    "    yr = int(stamp[:4])\n",
    "    mth = int(stamp[4:6])\n",
    "    day = int(stamp[6:8])\n",
    "    hr = int(stamp[9:11])\n",
    "    return datetime(yr, mth, day, hr)"
   ]
  },
  {
   "cell_type": "code",
   "execution_count": 26,
   "metadata": {
    "collapsed": true
   },
   "outputs": [],
   "source": [
    "def list_to_series(demand_list):\n",
    "    \"\"\"\n",
    "    converts the 'list of list' format given by EIA API into a regular indexed time series\n",
    "    \"\"\"\n",
    "    ser =  pd.Series(map(lambda datapoint: datapoint[1], demand_list),\n",
    "                     index=map(lambda datapoint: str_to_time(datapoint[0]), demand_list))\n",
    "    # resample to daily level\n",
    "    return ser.resample('1D').sum()"
   ]
  },
  {
   "cell_type": "code",
   "execution_count": 89,
   "metadata": {
    "collapsed": true
   },
   "outputs": [],
   "source": [
    "for key in demand.keys():\n",
    "    # we have an extra two days of data on the demand series; truncate it\n",
    "    demand[key] = list_to_series(demand[key])[:-2]"
   ]
  },
  {
   "cell_type": "code",
   "execution_count": 32,
   "metadata": {
    "collapsed": false
   },
   "outputs": [
    {
     "data": {
      "text/plain": [
       "2015-07-01    796723\n",
       "2015-07-02    774333\n",
       "2015-07-03    691318\n",
       "2015-07-04    669451\n",
       "2015-07-05    693343\n",
       "Freq: D, dtype: int64"
      ]
     },
     "execution_count": 32,
     "metadata": {},
     "output_type": "execute_result"
    }
   ],
   "source": [
    "demand['Central'].head()"
   ]
  },
  {
   "cell_type": "code",
   "execution_count": 90,
   "metadata": {
    "collapsed": true
   },
   "outputs": [],
   "source": [
    "# rewrite the clean demand data\n",
    "with open('./data/demand.pickle', 'wb') as handle:\n",
    "    pickle.dump(demand, handle, protocol=pickle.HIGHEST_PROTOCOL)"
   ]
  },
  {
   "cell_type": "markdown",
   "metadata": {
    "collapsed": false
   },
   "source": [
    "## weather & periodicity normalization"
   ]
  },
  {
   "cell_type": "code",
   "execution_count": 180,
   "metadata": {
    "collapsed": false
   },
   "outputs": [],
   "source": [
    "with open('./data/region_highs.pickle', 'rb') as handle:\n",
    "    regional_highs = pickle.load(handle)\n",
    "\n",
    "with open('./data/region_lows.pickle', 'rb') as handle:\n",
    "    regional_lows = pickle.load(handle)\n",
    "    \n",
    "with open('./data/demand.pickle', 'rb') as handle:\n",
    "    demand = pickle.load(handle)"
   ]
  },
  {
   "cell_type": "markdown",
   "metadata": {},
   "source": [
    "### problemo:\n",
    "note that for more robust weather normalization (that would be more sensitive to long stints of hot or cold), we'd want to compare observed temps against historical averages for each region. as it is, we're just comparing against itself looking for \"local extremes\" on moving averages. we're sensitive to initial changes in weather, but if the heat wave lastsa for a few weeks, the sensititivty gets worse... maybe that's ok? dunno. the perfect method would be to first normalize weather against historical averages, and then to remove seasonality."
   ]
  },
  {
   "cell_type": "markdown",
   "metadata": {},
   "source": [
    "### weather normalization"
   ]
  },
  {
   "cell_type": "code",
   "execution_count": null,
   "metadata": {
    "collapsed": false
   },
   "outputs": [],
   "source": [
    "for region in demand.keys():\n",
    "    \n",
    "    highs = regional_highs[region]\n",
    "    lows = regional_highs[region]\n",
    "    rolling_highs = regional_highs[region].rolling(window=14).mean()\n",
    "    rolling_lows = regional_highs[region].rolling(window=14).mean()\n",
    "    \n",
    "    for day in demand[region].index:\n",
    "        # adjustment for cooling loads (summer months)\n",
    "        if day.month in [5, 6, 7, 8, 9]:\n",
    "            # check if day's temp is higher than the rolling avg\n",
    "            percent_over = (highs[day] - rolling_highs[day]) / abs(rolling_highs[day])\n",
    "            if percent_over > 0:\n",
    "                # normalize heating demand downwards; 50% weight\n",
    "                print 'log: summer', region, day.date(), round(highs[day], 1), round(percent_over * 100, 1)\n",
    "                demand[region][day] = demand[region][day] - \\\n",
    "                (percent_over * 0.6 * demand[region][day]) # 60% weight\n",
    "        # adjustment for heating loads\n",
    "        elif day.month in [11, 12, 1, 2, 3]:\n",
    "            percent_under = (rolling_lows[day] - lows[day]) / abs(rolling_lows[day])\n",
    "            # check if day's temp is lower than the rolling avg\n",
    "            if percent_under > 0:\n",
    "                # normalize cooling demand downwards; 25% weight\n",
    "                print 'log: winter', region, day.date(), round(lows[day], 1), round(percent_under * 100, 1)\n",
    "                demand[region][day] = demand[region][day] - \\\n",
    "                (percent_under * 0.4 * demand[region][day]) # 40% weight\n",
    "        # this leaves two shoulder months that we dont adjust for\n",
    "        else:\n",
    "            pass"
   ]
  },
  {
   "cell_type": "markdown",
   "metadata": {},
   "source": [
    "### removing periodicity"
   ]
  },
  {
   "cell_type": "code",
   "execution_count": 182,
   "metadata": {
    "collapsed": false
   },
   "outputs": [
    {
     "name": "stderr",
     "output_type": "stream",
     "text": [
      "/Users/ian/anaconda2/lib/python2.7/site-packages/ipykernel/__main__.py:4: RuntimeWarning: invalid value encountered in log\n"
     ]
    }
   ],
   "source": [
    "for region in demand.keys():\n",
    "\n",
    "    df = pd.DataFrame(demand[region], columns=['actual'])\n",
    "    df['y'] = np.log(df.loc[:, 'actual'])\n",
    "    df['ds'] = df.index\n",
    "    \n",
    "    m = Prophet(yearly_seasonality=True, weekly_seasonality=True)\n",
    "    m.fit(df)\n",
    "    modelled = m.predict(df)\n",
    "    modelled['norm'] = modelled.actual - np.exp(modelled.yhat)\n",
    "    modelled.set_index('ds', drop=True, inplace=True)\n",
    "    \n",
    "    demand[region] = modelled.loc[:, ['actual', 'norm']]"
   ]
  },
  {
   "cell_type": "markdown",
   "metadata": {},
   "source": [
    "### isolating anomalies"
   ]
  },
  {
   "cell_type": "code",
   "execution_count": 195,
   "metadata": {
    "collapsed": false
   },
   "outputs": [],
   "source": [
    "# build a list of anomalies\n",
    "anoms = []\n",
    "for region in demand.keys():\n",
    "    df = demand[region]\n",
    "    std = np.std(demand[region]['norm'])\n",
    "    mean = np.mean(demand[region]['norm'])\n",
    "    \n",
    "    # we're specifically interested in demand PEAKS, not unusual dips\n",
    "    # so we'll only isolate the abnormally high \n",
    "    regional_anoms = df[df.norm > (mean + 2*std)].index\n",
    "    for day in regional_anoms:\n",
    "        anoms.append((region, day))"
   ]
  },
  {
   "cell_type": "code",
   "execution_count": 198,
   "metadata": {
    "collapsed": false
   },
   "outputs": [],
   "source": [
    "# rewrite the clean demand data\n",
    "with open('./data/anoms.pickle', 'wb') as handle:\n",
    "    pickle.dump(anoms, handle, protocol=pickle.HIGHEST_PROTOCOL)"
   ]
  },
  {
   "cell_type": "code",
   "execution_count": 267,
   "metadata": {
    "collapsed": false
   },
   "outputs": [],
   "source": [
    "#anoms"
   ]
  },
  {
   "cell_type": "code",
   "execution_count": null,
   "metadata": {
    "collapsed": true
   },
   "outputs": [],
   "source": [
    "# write anomalies to file\n",
    "with open('./data/demand.pickle', 'wb') as handle:\n",
    "    pickle.dump(demand, handle, protocol=pickle.HIGHEST_PROTOCOL)"
   ]
  },
  {
   "cell_type": "markdown",
   "metadata": {},
   "source": [
    "## PLOTS FOR PAPER"
   ]
  },
  {
   "cell_type": "code",
   "execution_count": 256,
   "metadata": {
    "collapsed": false
   },
   "outputs": [
    {
     "data": {
      "text/plain": [
       "<matplotlib.axes._subplots.AxesSubplot at 0x12b9e2f10>"
      ]
     },
     "execution_count": 256,
     "metadata": {},
     "output_type": "execute_result"
    },
    {
     "data": {
      "image/png": "[encoded data removed]",
      "text/plain": [
       "<matplotlib.figure.Figure at 0x12b96fbd0>"
      ]
     },
     "metadata": {},
     "output_type": "display_data"
    }
   ],
   "source": [
    "demand['Texas'].plot()"
   ]
  },
  {
   "cell_type": "code",
   "execution_count": 220,
   "metadata": {
    "collapsed": true
   },
   "outputs": [],
   "source": [
    "with open('./data/region_weather.pickle', 'rb') as handle:\n",
    "    regional_weather = pickle.load(handle)"
   ]
  },
  {
   "cell_type": "code",
   "execution_count": 251,
   "metadata": {
    "collapsed": false
   },
   "outputs": [
    {
     "data": {
      "image/png": "[encoded data removed]",
      "text/plain": [
       "<matplotlib.figure.Figure at 0x127c3b9d0>"
      ]
     },
     "metadata": {},
     "output_type": "display_data"
    }
   ],
   "source": [
    "fig, axs = plt.subplots(2)\n",
    "fig.set_size_inches(14,8)\n",
    "fig.subplots_adjust(hspace=0.3)\n",
    "axs[0].plot(regional_weather['California'])\n",
    "axs[1].plot(regional_weather['California'][2880:3216])\n",
    "\n",
    "axs[0].set_ylabel('Temp (C)', size=15)\n",
    "axs[1].set_ylabel('Temp (C)', size=15)\n",
    "axs[0].tick_params(axis='both', which='major', labelsize=12)\n",
    "axs[1].tick_params(axis='both', which='major', labelsize=12)\n",
    "\n",
    "for label in axs[0].get_xmajorticklabels() + axs[1].get_xmajorticklabels():\n",
    "    label.set_rotation(30)\n",
    "    label.set_horizontalalignment(\"right\")"
   ]
  },
  {
   "cell_type": "code",
   "execution_count": 261,
   "metadata": {
    "collapsed": true
   },
   "outputs": [],
   "source": [
    "std = np.std(demand['Texas']['norm'])\n",
    "mean = np.mean(demand['Texas']['norm'])\n",
    "std_line  = mean + 2*std"
   ]
  },
  {
   "cell_type": "code",
   "execution_count": 266,
   "metadata": {
    "collapsed": false
   },
   "outputs": [
    {
     "data": {
      "image/png": "[encoded data removed]",
      "text/plain": [
       "<matplotlib.figure.Figure at 0x12a2ddd10>"
      ]
     },
     "metadata": {},
     "output_type": "display_data"
    }
   ],
   "source": [
    "fig, axs = plt.subplots(2)\n",
    "fig.set_size_inches(14,8)\n",
    "fig.subplots_adjust(hspace=0.3)\n",
    "axs[0].plot(demand['Texas']['actual'])\n",
    "axs[1].plot(demand['Texas']['norm'])\n",
    "axs[1].axhline(y=std_line, color='k', linestyle='--')\n",
    "\n",
    "axs[0].set_ylabel('Real Demand (MWh)', size=15)\n",
    "axs[1].set_ylabel('Norm. Demand (MWh)', size=15)\n",
    "axs[1].set_ylim([-300000,300000])\n",
    "axs[0].tick_params(axis='both', which='major', labelsize=12)\n",
    "axs[1].tick_params(axis='both', which='major', labelsize=12)\n",
    "\n",
    "\n",
    "for label in axs[0].get_xmajorticklabels() + axs[1].get_xmajorticklabels():\n",
    "    label.set_rotation(30)\n",
    "    label.set_horizontalalignment(\"right\")"
   ]
  }
 ],
 "metadata": {
  "anaconda-cloud": {},
  "kernelspec": {
   "display_name": "Python [conda root]",
   "language": "python",
   "name": "conda-root-py"
  },
  "language_info": {
   "codemirror_mode": {
    "name": "ipython",
    "version": 2
   },
   "file_extension": ".py",
   "mimetype": "text/x-python",
   "name": "python",
   "nbconvert_exporter": "python",
   "pygments_lexer": "ipython2",
   "version": "2.7.12"
  }
 },
 "nbformat": 4,
 "nbformat_minor": 2
}
